{
 "cells": [
  {
   "cell_type": "code",
   "execution_count": 1,
   "id": "801ffa92",
   "metadata": {},
   "outputs": [],
   "source": [
    "import datetime\n",
    "import numpy as np\n",
    "import cv2\n",
    "import time\n",
    "import os \n",
    "import moviepy.editor as edit"
   ]
  },
  {
   "cell_type": "code",
   "execution_count": 11,
   "id": "9662cf04",
   "metadata": {},
   "outputs": [
    {
     "data": {
      "text/plain": [
       "(360, 640, 3)"
      ]
     },
     "execution_count": 11,
     "metadata": {},
     "output_type": "execute_result"
    }
   ],
   "source": [
    "## image shape (360, 640, 3)"
   ]
  },
  {
   "cell_type": "code",
   "execution_count": 2,
   "id": "4708592b",
   "metadata": {},
   "outputs": [],
   "source": [
    "seconds_duration = 60*30\n",
    "seconds_between_shots = 2\n",
    "res_x,res_y=360,640\n",
    "folder = \"E:/renders/timelapse/\"\n",
    "fps=60\n"
   ]
  },
  {
   "cell_type": "code",
   "execution_count": 4,
   "id": "eb258ee6",
   "metadata": {},
   "outputs": [
    {
     "name": "stdout",
     "output_type": "stream",
     "text": [
      "2023\n",
      "Tue_Mar__7_19-26-09_2023\n"
     ]
    }
   ],
   "source": [
    "x = datetime.datetime.now()\n",
    "\n",
    "print(x.year)\n",
    "print(x.strftime(\"%c\").replace(\":\",\"-\").replace(\" \",\"_\"))\n"
   ]
  },
  {
   "cell_type": "code",
   "execution_count": 10,
   "id": "3946ee30",
   "metadata": {},
   "outputs": [
    {
     "name": "stdout",
     "output_type": "stream",
     "text": [
      "done recording\n"
     ]
    }
   ],
   "source": [
    "WINDOW_NAME = 'timelapse'\n",
    "cv2.namedWindow(WINDOW_NAME, cv2.WINDOW_AUTOSIZE)\n",
    "cv2.startWindowThread()\n",
    "video_name=datetime.datetime.now().strftime(\"%c\").replace(\":\",\"-\").replace(\" \",\"_\")\n",
    "\n",
    "out = cv2.VideoWriter(folder+video_name+'.mp4',cv2.VideoWriter_fourcc(*'MP4V'), fps, (res_y,res_x))\n",
    "\n",
    "cap=cv2.VideoCapture(0)  ## 0 for default, 1 for OBS-Camera, 2 for OBS-Virtual Camera\n",
    "now = datetime.datetime.now()\n",
    "finish_time = now + datetime.timedelta(seconds=seconds_duration)\n",
    "#i = 0\n",
    "isRecording=True\n",
    "while datetime.datetime.now() < finish_time:\n",
    "    #filename        = f\"{timelapse_img_dir}/{i}.jpg\"\n",
    "    #i               += 1\n",
    "    #cv2.imwrite(filename, frame)\n",
    "    if(isRecording):#read the boolean to decide whether to write frame or not\n",
    "        ret, frame      = cap.read()\n",
    "        frame = cv2.resize(frame, (res_y,res_x),interpolation=cv2.INTER_LANCZOS4)\n",
    "        cv2.imshow(WINDOW_NAME,frame)\n",
    "        out.write(frame)\n",
    "    if cv2.waitKey(200) & 0xFF == ord('p'):#Pause\n",
    "        isRecording=False\n",
    "    if cv2.waitKey(200) & 0xFF == ord('c'):#Continue\n",
    "        isRecording=True\n",
    "    if cv2.waitKey(200) & 0xFF == ord('q'):\n",
    "        break\n",
    "    time.sleep(seconds_between_shots)\n",
    "    \n",
    "cv2.destroyAllWindows()\n",
    "cap.release()\n",
    "out.release()\n",
    "print(\"done recording\")\n",
    "\n"
   ]
  },
  {
   "cell_type": "code",
   "execution_count": 6,
   "id": "5fadd433",
   "metadata": {},
   "outputs": [],
   "source": [
    "cv2.destroyAllWindows()\n",
    "cap.release()\n",
    "out.release()"
   ]
  },
  {
   "cell_type": "code",
   "execution_count": null,
   "id": "6373c27b",
   "metadata": {},
   "outputs": [],
   "source": [
    "## concatenating made movie to the OG big movie file\n",
    "\n",
    "clip1 = edit.VideoFileClip(folder+\"project.mp4\")\n",
    "clip2 = edit.VideoFileClip(folder+\"temp.mp4\")\n",
    "final = edit.concatenate_videoclips([clip1, clip2], method='compose')\n",
    "final.write_videofile(folder+\"project.mp4\", fps=clip1.fps, threads=1, codec=\"libx264\")"
   ]
  }
 ],
 "metadata": {
  "kernelspec": {
   "display_name": "Python 3 (ipykernel)",
   "language": "python",
   "name": "python3"
  },
  "language_info": {
   "codemirror_mode": {
    "name": "ipython",
    "version": 3
   },
   "file_extension": ".py",
   "mimetype": "text/x-python",
   "name": "python",
   "nbconvert_exporter": "python",
   "pygments_lexer": "ipython3",
   "version": "3.10.9"
  }
 },
 "nbformat": 4,
 "nbformat_minor": 5
}
